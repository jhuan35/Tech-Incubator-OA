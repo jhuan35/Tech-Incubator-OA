{
 "cells": [
  {
   "cell_type": "markdown",
   "id": "103bd0dd",
   "metadata": {},
   "source": [
    "Problem: You are making a Game Controller. You need to implement two functions: register() and keypress().The former is called multiple times at the very beginning and never again thereafter. It takes in 2 strings (sequence of characters): a keypress_sequence and an action_type. The semantic meaning there is that once the Game Controller recognizes that a keypress_sequence was received, it should execute the corresponding action_type that was registered. The latter is called every time a key is pressed on the controller. It receives 1 string, a single character of the key pressed. It should return a list of the action_types matched.\n",
    "\n",
    "Example:\n",
    "Register(\"UDLR\", \"Hello World\")\n",
    "Register(\"DLR\", \"Hello UIUC\")\n",
    "Keypress(\"U\")\n",
    "Keypress(\"D\")\n",
    "Keypress(\"L\")\n",
    "Keypress(\"R\")\n",
    "\n",
    "Output:\n",
    "[]\n",
    "[]\n",
    "[]\n",
    "[\"Hello World\", \"Hello UIUC\"]"
   ]
  },
  {
   "cell_type": "code",
   "execution_count": null,
   "id": "c6b6181d",
   "metadata": {},
   "outputs": [],
   "source": [
    "# My notes\n",
    "'''\n",
    "\n",
    "'''"
   ]
  },
  {
   "cell_type": "code",
   "execution_count": 1,
   "id": "b585e057",
   "metadata": {},
   "outputs": [],
   "source": [
    "# My code"
   ]
  },
  {
   "cell_type": "code",
   "execution_count": null,
   "id": "16263827",
   "metadata": {},
   "outputs": [],
   "source": [
    "# My tests"
   ]
  }
 ],
 "metadata": {
  "kernelspec": {
   "display_name": "Python 3",
   "language": "python",
   "name": "python3"
  },
  "language_info": {
   "codemirror_mode": {
    "name": "ipython",
    "version": 3
   },
   "file_extension": ".py",
   "mimetype": "text/x-python",
   "name": "python",
   "nbconvert_exporter": "python",
   "pygments_lexer": "ipython3",
   "version": "3.8.8"
  }
 },
 "nbformat": 4,
 "nbformat_minor": 5
}
